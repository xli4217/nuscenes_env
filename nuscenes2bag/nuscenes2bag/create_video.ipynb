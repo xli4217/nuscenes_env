{
 "cells": [
  {
   "cell_type": "code",
   "execution_count": 1,
   "id": "006b5e21-5c32-40d8-a1ed-c44d0eb5ec96",
   "metadata": {},
   "outputs": [],
   "source": [
    "from pathlib import Path\n",
    "from celluloid import Camera\n",
    "import numpy as np\n",
    "import matplotlib.pyplot as plt\n",
    "import tqdm\n",
    "\n",
    "\n",
    "def make_video_from_images(image_dir:str=None, image_type='png', video_save_path:str=None, video_layout=None):\n",
    "        if video_layout is None:\n",
    "            video_layout = {\n",
    "                'figsize': (15,15),\n",
    "                'nb_rows': 6,\n",
    "                'nb_cols': 6,\n",
    "                'components': {\n",
    "                    'birdseye': [[0,4], [0,6]],\n",
    "                    'camera': [[4,6], [0,6]]\n",
    "                },\n",
    "                'fixed_image': {\n",
    "                    'path': None,\n",
    "                    'layout': [[],[]]\n",
    "                }\n",
    "\n",
    "            }\n",
    "\n",
    "        img_fn_list = [str(p).split('/')[-1] for p in Path(image_dir).rglob('*.'+image_type)]\n",
    "        component_img_list = {}\n",
    "        for k, v in video_layout['components'].items():\n",
    "            img_list = [p for p in img_fn_list if k in p and 'checkpoint' not in p]\n",
    "            #idx = np.argsort(np.array([int(p[:2]) for p in img_list]))\n",
    "            idx = np.argsort(np.array([int(p[:2]) for p in img_list]))\n",
    "            img_list = np.array(img_list)[idx]\n",
    "            nb_images = len(img_list)\n",
    "            component_img_list[k] = img_list\n",
    "\n",
    " \n",
    "        fig = plt.figure(figsize=video_layout['figsize'], constrained_layout=False)\n",
    "        gs = fig.add_gridspec(nrows=video_layout['nb_rows'], ncols=video_layout['nb_cols'], wspace=0.01)\n",
    "        axes = {}\n",
    "        for k, v in video_layout['components'].items():\n",
    "            ax = fig.add_subplot(gs[v[0][0]:v[0][1], v[1][0]:v[1][1]])\n",
    "            ax.axis('off')\n",
    "            axes[k] = ax\n",
    "\n",
    "        camera = Camera(fig)\n",
    "        for i in tqdm.tqdm(range(nb_images)):\n",
    "            for k, v in component_img_list.items():\n",
    "                if i < len(v):\n",
    "                    axes[k].imshow(plt.imread(os.path.join(image_dir, v[i])))\n",
    "            camera.snap()\n",
    "\n",
    "        animation = camera.animate()\n",
    "\n",
    "        if video_save_path is not None:\n",
    "            animation.save(video_save_path)\n",
    "        return animation"
   ]
  },
  {
   "cell_type": "code",
   "execution_count": 1,
   "id": "aae954bc-7033-4020-be7a-8282b425fb93",
   "metadata": {},
   "outputs": [],
   "source": [
    "from IPython import display as ipythondisplay\n",
    "from pyvirtualdisplay import Display\n",
    "from pathlib import Path\n",
    "import base64\n",
    "\n",
    "def show_video_in_jupyter(path):\n",
    "    html = []\n",
    "    for mp4 in Path(path).glob(\"*.mp4\"):\n",
    "        video_b64 = base64.b64encode(mp4.read_bytes())\n",
    "        html.append('''<video alt=\"{}\" autoplay \n",
    "                      loop controls style=\"height: 400px;\">\n",
    "                      <source src=\"data:video/mp4;base64,{}\" type=\"video/mp4\" />\n",
    "                 </video>'''.format(mp4, video_b64.decode('utf-8')))\n",
    "    ipythondisplay.display(ipythondisplay.HTML(data=\"<br>\".join(html)))\n",
    "\n",
    "\n"
   ]
  },
  {
   "cell_type": "code",
   "execution_count": 3,
   "id": "59b947c1-3680-4599-9815-4b809bb08347",
   "metadata": {},
   "outputs": [
    {
     "name": "stderr",
     "output_type": "stream",
     "text": [
      "100%|██████████| 29/29 [00:01<00:00, 26.34it/s]\n"
     ]
    },
    {
     "data": {
      "text/plain": [
       "<matplotlib.animation.ArtistAnimation at 0x7ffb587d3128>"
      ]
     },
     "execution_count": 3,
     "metadata": {},
     "output_type": "execute_result"
    }
   ],
   "source": [
    "import os\n",
    "\n",
    "component_name = 'scene'\n",
    "\n",
    "image_dir = \"/Users/xiaoli/Xiao/TRI/videos/tri-check-in/scenes/rls/scene-0288/\"+\"bev\"+\"/\"\n",
    "video_layout = {\n",
    "    'figsize': (15,15),\n",
    "    'nb_rows': 6,\n",
    "    'nb_cols': 6,\n",
    "    'components': {\n",
    "        component_name: [[0,6], [0,6]]\n",
    "    }\n",
    "}\n",
    "\n",
    "make_video_from_images(image_dir=image_dir, image_type='png', video_save_path=image_dir+'/'+component_name+'.mp4', video_layout=video_layout)"
   ]
  },
  {
   "cell_type": "code",
   "execution_count": 3,
   "id": "2fae325b-4132-467c-b5d4-d4171506d961",
   "metadata": {},
   "outputs": [
    {
     "data": {
      "text/html": [],
      "text/plain": [
       "<IPython.core.display.HTML object>"
      ]
     },
     "metadata": {},
     "output_type": "display_data"
    }
   ],
   "source": [
    "from IPython import display as ipythondisplay\n",
    "\n",
    "p = \"/Users/xiaoli/Xiao/TRI/nuscenes_env/nuscenes2bag/data/supercloud_data/risk_logic_net/final/baseline/scene-0103/bev/scene.mp4\"\n",
    "show_video_in_jupyter('birdeye.mp4')"
   ]
  }
 ],
 "metadata": {
  "kernelspec": {
   "display_name": "Python 3",
   "language": "python",
   "name": "python3"
  },
  "language_info": {
   "codemirror_mode": {
    "name": "ipython",
    "version": 3
   },
   "file_extension": ".py",
   "mimetype": "text/x-python",
   "name": "python",
   "nbconvert_exporter": "python",
   "pygments_lexer": "ipython3",
   "version": "3.7.0"
  }
 },
 "nbformat": 4,
 "nbformat_minor": 5
}
